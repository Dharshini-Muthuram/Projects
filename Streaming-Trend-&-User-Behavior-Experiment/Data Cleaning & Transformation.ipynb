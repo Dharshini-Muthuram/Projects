{
 "cells": [
  {
   "cell_type": "code",
   "execution_count": 1,
   "id": "c140b7da-ef9d-4b34-888d-46fc119bdc8d",
   "metadata": {},
   "outputs": [],
   "source": [
    "# import libraries\n",
    "import numpy as np\n",
    "import pandas as pd"
   ]
  },
  {
   "cell_type": "code",
   "execution_count": 3,
   "id": "231aa979-8828-47ca-8f41-ad6013961215",
   "metadata": {},
   "outputs": [],
   "source": [
    "df =pd.read_csv(\"netflix_titles.csv\")"
   ]
  },
  {
   "cell_type": "code",
   "execution_count": 5,
   "id": "fe8b4691-75b4-4f90-8584-46d4681ce454",
   "metadata": {},
   "outputs": [
    {
     "data": {
      "text/html": [
       "<div>\n",
       "<style scoped>\n",
       "    .dataframe tbody tr th:only-of-type {\n",
       "        vertical-align: middle;\n",
       "    }\n",
       "\n",
       "    .dataframe tbody tr th {\n",
       "        vertical-align: top;\n",
       "    }\n",
       "\n",
       "    .dataframe thead th {\n",
       "        text-align: right;\n",
       "    }\n",
       "</style>\n",
       "<table border=\"1\" class=\"dataframe\">\n",
       "  <thead>\n",
       "    <tr style=\"text-align: right;\">\n",
       "      <th></th>\n",
       "      <th>show_id</th>\n",
       "      <th>type</th>\n",
       "      <th>title</th>\n",
       "      <th>director</th>\n",
       "      <th>cast</th>\n",
       "      <th>country</th>\n",
       "      <th>date_added</th>\n",
       "      <th>release_year</th>\n",
       "      <th>rating</th>\n",
       "      <th>duration</th>\n",
       "      <th>listed_in</th>\n",
       "      <th>description</th>\n",
       "    </tr>\n",
       "  </thead>\n",
       "  <tbody>\n",
       "    <tr>\n",
       "      <th>4765</th>\n",
       "      <td>s4766</td>\n",
       "      <td>Movie</td>\n",
       "      <td>Nothing to Lose</td>\n",
       "      <td>Alexandre Avancini</td>\n",
       "      <td>Petrônio Gontijo, Day Mesquita, Beth Goulart, ...</td>\n",
       "      <td>Brazil</td>\n",
       "      <td>July 20, 2018</td>\n",
       "      <td>2018</td>\n",
       "      <td>PG</td>\n",
       "      <td>133 min</td>\n",
       "      <td>Dramas, Faith &amp; Spirituality, International Mo...</td>\n",
       "      <td>This biographical drama traces the rise to fam...</td>\n",
       "    </tr>\n",
       "    <tr>\n",
       "      <th>421</th>\n",
       "      <td>s422</td>\n",
       "      <td>Movie</td>\n",
       "      <td>Chhota Bheem: Dus Pe Dus</td>\n",
       "      <td>Rajiv Chilaka, Owll Mina</td>\n",
       "      <td>Vatsal Dubey, Julie Tejwani, Rupa Bhimani, Jig...</td>\n",
       "      <td>NaN</td>\n",
       "      <td>July 22, 2021</td>\n",
       "      <td>2014</td>\n",
       "      <td>TV-Y7</td>\n",
       "      <td>63 min</td>\n",
       "      <td>Children &amp; Family Movies</td>\n",
       "      <td>After a precious temple stone is stolen under ...</td>\n",
       "    </tr>\n",
       "    <tr>\n",
       "      <th>3371</th>\n",
       "      <td>s3372</td>\n",
       "      <td>Movie</td>\n",
       "      <td>Consequences</td>\n",
       "      <td>Ozan Açıktan</td>\n",
       "      <td>Nehir Erdoğan, Tardu Flordun, İlker Kaleli, Se...</td>\n",
       "      <td>Turkey</td>\n",
       "      <td>October 25, 2019</td>\n",
       "      <td>2014</td>\n",
       "      <td>TV-MA</td>\n",
       "      <td>106 min</td>\n",
       "      <td>Dramas, International Movies, Thrillers</td>\n",
       "      <td>Secrets bubble to the surface after a sensual ...</td>\n",
       "    </tr>\n",
       "    <tr>\n",
       "      <th>3310</th>\n",
       "      <td>s3311</td>\n",
       "      <td>TV Show</td>\n",
       "      <td>Meet the Adebanjos</td>\n",
       "      <td>NaN</td>\n",
       "      <td>Wale Ojo, Yetunde Oduwole, Andrea Aboagye, Dan...</td>\n",
       "      <td>United Kingdom</td>\n",
       "      <td>November 4, 2019</td>\n",
       "      <td>2016</td>\n",
       "      <td>TV-PG</td>\n",
       "      <td>3 Seasons</td>\n",
       "      <td>British TV Shows, International TV Shows, TV C...</td>\n",
       "      <td>In South London, tradition clashes with cultur...</td>\n",
       "    </tr>\n",
       "    <tr>\n",
       "      <th>3893</th>\n",
       "      <td>s3894</td>\n",
       "      <td>TV Show</td>\n",
       "      <td>The Hateful Eight: Extended Version</td>\n",
       "      <td>Quentin Tarantino</td>\n",
       "      <td>Samuel L. Jackson, Kurt Russell, Jennifer Jaso...</td>\n",
       "      <td>NaN</td>\n",
       "      <td>April 25, 2019</td>\n",
       "      <td>2015</td>\n",
       "      <td>R</td>\n",
       "      <td>1 Season</td>\n",
       "      <td>TV Shows</td>\n",
       "      <td>Trapped at a stagecoach stop as a storm rages ...</td>\n",
       "    </tr>\n",
       "  </tbody>\n",
       "</table>\n",
       "</div>"
      ],
      "text/plain": [
       "     show_id     type                                title  \\\n",
       "4765   s4766    Movie                      Nothing to Lose   \n",
       "421     s422    Movie             Chhota Bheem: Dus Pe Dus   \n",
       "3371   s3372    Movie                         Consequences   \n",
       "3310   s3311  TV Show                   Meet the Adebanjos   \n",
       "3893   s3894  TV Show  The Hateful Eight: Extended Version   \n",
       "\n",
       "                      director  \\\n",
       "4765        Alexandre Avancini   \n",
       "421   Rajiv Chilaka, Owll Mina   \n",
       "3371              Ozan Açıktan   \n",
       "3310                       NaN   \n",
       "3893         Quentin Tarantino   \n",
       "\n",
       "                                                   cast         country  \\\n",
       "4765  Petrônio Gontijo, Day Mesquita, Beth Goulart, ...          Brazil   \n",
       "421   Vatsal Dubey, Julie Tejwani, Rupa Bhimani, Jig...             NaN   \n",
       "3371  Nehir Erdoğan, Tardu Flordun, İlker Kaleli, Se...          Turkey   \n",
       "3310  Wale Ojo, Yetunde Oduwole, Andrea Aboagye, Dan...  United Kingdom   \n",
       "3893  Samuel L. Jackson, Kurt Russell, Jennifer Jaso...             NaN   \n",
       "\n",
       "            date_added  release_year rating   duration  \\\n",
       "4765     July 20, 2018          2018     PG    133 min   \n",
       "421      July 22, 2021          2014  TV-Y7     63 min   \n",
       "3371  October 25, 2019          2014  TV-MA    106 min   \n",
       "3310  November 4, 2019          2016  TV-PG  3 Seasons   \n",
       "3893    April 25, 2019          2015      R   1 Season   \n",
       "\n",
       "                                              listed_in  \\\n",
       "4765  Dramas, Faith & Spirituality, International Mo...   \n",
       "421                            Children & Family Movies   \n",
       "3371            Dramas, International Movies, Thrillers   \n",
       "3310  British TV Shows, International TV Shows, TV C...   \n",
       "3893                                           TV Shows   \n",
       "\n",
       "                                            description  \n",
       "4765  This biographical drama traces the rise to fam...  \n",
       "421   After a precious temple stone is stolen under ...  \n",
       "3371  Secrets bubble to the surface after a sensual ...  \n",
       "3310  In South London, tradition clashes with cultur...  \n",
       "3893  Trapped at a stagecoach stop as a storm rages ...  "
      ]
     },
     "execution_count": 5,
     "metadata": {},
     "output_type": "execute_result"
    }
   ],
   "source": [
    "df.sample(5)"
   ]
  },
  {
   "cell_type": "code",
   "execution_count": 7,
   "id": "1335a8da-7a0f-4c75-b7ad-ee51b05d29f0",
   "metadata": {},
   "outputs": [
    {
     "data": {
      "text/plain": [
       "(8807, 12)"
      ]
     },
     "execution_count": 7,
     "metadata": {},
     "output_type": "execute_result"
    }
   ],
   "source": [
    "df.shape"
   ]
  },
  {
   "cell_type": "code",
   "execution_count": 9,
   "id": "f2929de7-f1b1-42d6-9ccf-d25f4781722d",
   "metadata": {},
   "outputs": [
    {
     "data": {
      "text/plain": [
       "Index(['show_id', 'type', 'title', 'director', 'cast', 'country', 'date_added',\n",
       "       'release_year', 'rating', 'duration', 'listed_in', 'description'],\n",
       "      dtype='object')"
      ]
     },
     "execution_count": 9,
     "metadata": {},
     "output_type": "execute_result"
    }
   ],
   "source": [
    "df.columns"
   ]
  },
  {
   "cell_type": "code",
   "execution_count": 13,
   "id": "d22e21ce-acc3-4789-b407-98ed46c95752",
   "metadata": {},
   "outputs": [
    {
     "data": {
      "text/plain": [
       "show_id            0\n",
       "type               0\n",
       "title              0\n",
       "director        2634\n",
       "cast             825\n",
       "country          831\n",
       "date_added        10\n",
       "release_year       0\n",
       "rating             4\n",
       "duration           3\n",
       "listed_in          0\n",
       "description        0\n",
       "dtype: int64"
      ]
     },
     "execution_count": 13,
     "metadata": {},
     "output_type": "execute_result"
    }
   ],
   "source": [
    "df.isna().sum()"
   ]
  },
  {
   "cell_type": "code",
   "execution_count": 15,
   "id": "604372e0-884c-450c-9c49-c83a40165a11",
   "metadata": {},
   "outputs": [
    {
     "data": {
      "text/plain": [
       "country\n",
       "United States     2818\n",
       "India              972\n",
       "United Kingdom     419\n",
       "Name: count, dtype: int64"
      ]
     },
     "execution_count": 15,
     "metadata": {},
     "output_type": "execute_result"
    }
   ],
   "source": [
    "df[\"country\"].value_counts().head(3)"
   ]
  },
  {
   "cell_type": "code",
   "execution_count": 17,
   "id": "85f195f9-02e2-4e2b-88fb-cba865dc609d",
   "metadata": {},
   "outputs": [
    {
     "data": {
      "text/plain": [
       "'United States'"
      ]
     },
     "execution_count": 17,
     "metadata": {},
     "output_type": "execute_result"
    }
   ],
   "source": [
    "mode_country= df[\"country\"].mode()[0]\n",
    "mode_country"
   ]
  },
  {
   "cell_type": "code",
   "execution_count": 19,
   "id": "111e6fab-52c0-4b3e-88ca-d4c61a4e6ff6",
   "metadata": {},
   "outputs": [],
   "source": [
    "df[\"country\"]= df[\"country\"].fillna(mode_country)"
   ]
  },
  {
   "cell_type": "code",
   "execution_count": 21,
   "id": "fc8865e5-5c94-4ff5-a606-5815273d3cfb",
   "metadata": {},
   "outputs": [
    {
     "data": {
      "text/plain": [
       "0"
      ]
     },
     "execution_count": 21,
     "metadata": {},
     "output_type": "execute_result"
    }
   ],
   "source": [
    "df[\"country\"].isna().sum()"
   ]
  },
  {
   "cell_type": "code",
   "execution_count": 23,
   "id": "c607359c-a246-4fde-b9c8-6c53ad63bc4c",
   "metadata": {},
   "outputs": [
    {
     "data": {
      "text/plain": [
       "date_added\n",
       "January 1, 2020     109\n",
       "November 1, 2019     89\n",
       "March 1, 2018        75\n",
       "Name: count, dtype: int64"
      ]
     },
     "execution_count": 23,
     "metadata": {},
     "output_type": "execute_result"
    }
   ],
   "source": [
    "df[\"date_added\"].value_counts().head(3)"
   ]
  },
  {
   "cell_type": "code",
   "execution_count": 25,
   "id": "2d8e43bb-e070-4e7b-8ad5-a77d43bab595",
   "metadata": {},
   "outputs": [
    {
     "data": {
      "text/plain": [
       "'January 1, 2020'"
      ]
     },
     "execution_count": 25,
     "metadata": {},
     "output_type": "execute_result"
    }
   ],
   "source": [
    "mode_date = df[\"date_added\"].mode()[0]\n",
    "mode_date"
   ]
  },
  {
   "cell_type": "code",
   "execution_count": 27,
   "id": "82e162ec-5a47-4edd-a70c-e2dd68e9a57b",
   "metadata": {},
   "outputs": [],
   "source": [
    "df[\"date_added\"]=df[\"date_added\"].fillna(mode_date)"
   ]
  },
  {
   "cell_type": "code",
   "execution_count": 29,
   "id": "bb46e6ba-0edc-44a5-b602-bef9cbf4d39c",
   "metadata": {},
   "outputs": [
    {
     "data": {
      "text/plain": [
       "'TV-MA'"
      ]
     },
     "execution_count": 29,
     "metadata": {},
     "output_type": "execute_result"
    }
   ],
   "source": [
    "mode_rating=df[\"rating\"].mode()[0]\n",
    "mode_rating"
   ]
  },
  {
   "cell_type": "code",
   "execution_count": 31,
   "id": "c766812e-6f6e-4867-9c50-cb4aeaf2e860",
   "metadata": {},
   "outputs": [],
   "source": [
    "df[\"rating\"]=df[\"rating\"].fillna(mode_rating)"
   ]
  },
  {
   "cell_type": "code",
   "execution_count": 33,
   "id": "918e1f16-81ef-40aa-b366-ceb45d6f266c",
   "metadata": {},
   "outputs": [
    {
     "data": {
      "text/plain": [
       "0"
      ]
     },
     "execution_count": 33,
     "metadata": {},
     "output_type": "execute_result"
    }
   ],
   "source": [
    "df[\"rating\"].isna().sum()"
   ]
  },
  {
   "cell_type": "code",
   "execution_count": 35,
   "id": "9d12e8b4-55eb-4ff2-8e7b-f26e57a4e7c9",
   "metadata": {},
   "outputs": [],
   "source": [
    "mode_duration=df[\"duration\"].mode()[0]"
   ]
  },
  {
   "cell_type": "code",
   "execution_count": 37,
   "id": "9eab5c15-d444-4e68-8702-fad54b93e29f",
   "metadata": {},
   "outputs": [
    {
     "data": {
      "text/plain": [
       "'1 Season'"
      ]
     },
     "execution_count": 37,
     "metadata": {},
     "output_type": "execute_result"
    }
   ],
   "source": [
    "mode_duration"
   ]
  },
  {
   "cell_type": "code",
   "execution_count": 39,
   "id": "1044c6c7-a034-4489-bcc3-e24eeed44f19",
   "metadata": {},
   "outputs": [],
   "source": [
    "df[\"duration\"]=df[\"duration\"].fillna(mode_duration)"
   ]
  },
  {
   "cell_type": "code",
   "execution_count": 41,
   "id": "e6b0456b-095e-4791-b520-fc264fe6e572",
   "metadata": {},
   "outputs": [
    {
     "data": {
      "text/plain": [
       "0"
      ]
     },
     "execution_count": 41,
     "metadata": {},
     "output_type": "execute_result"
    }
   ],
   "source": [
    "df[\"duration\"].isna().sum()"
   ]
  },
  {
   "cell_type": "code",
   "execution_count": 43,
   "id": "49ba1bea-d6fb-4334-94be-4ef1075d8686",
   "metadata": {},
   "outputs": [],
   "source": [
    "df[\"director\"]=df[\"director\"].fillna(\"Not Mentioned\")"
   ]
  },
  {
   "cell_type": "code",
   "execution_count": 45,
   "id": "b66053c3-8f6f-477b-a0b1-4d44a003e6d7",
   "metadata": {},
   "outputs": [
    {
     "data": {
      "text/plain": [
       "0"
      ]
     },
     "execution_count": 45,
     "metadata": {},
     "output_type": "execute_result"
    }
   ],
   "source": [
    "df[\"director\"].isna().sum()"
   ]
  },
  {
   "cell_type": "code",
   "execution_count": 47,
   "id": "490cca20-d94a-4d0a-a4e0-f93feae54bbc",
   "metadata": {},
   "outputs": [],
   "source": [
    "df[\"cast\"]=df[\"cast\"].fillna(\"Not Mentioned\")"
   ]
  },
  {
   "cell_type": "code",
   "execution_count": 49,
   "id": "133d8ced-04c0-4a3e-8c8f-c7af4fd3c42f",
   "metadata": {},
   "outputs": [
    {
     "data": {
      "text/plain": [
       "0"
      ]
     },
     "execution_count": 49,
     "metadata": {},
     "output_type": "execute_result"
    }
   ],
   "source": [
    "df[\"cast\"].isna().sum()"
   ]
  },
  {
   "cell_type": "code",
   "execution_count": 51,
   "id": "29db0c41-b27c-4ae1-87a6-23cec66ad032",
   "metadata": {},
   "outputs": [
    {
     "name": "stdout",
     "output_type": "stream",
     "text": [
      "<class 'pandas.core.frame.DataFrame'>\n",
      "RangeIndex: 8807 entries, 0 to 8806\n",
      "Data columns (total 12 columns):\n",
      " #   Column        Non-Null Count  Dtype \n",
      "---  ------        --------------  ----- \n",
      " 0   show_id       8807 non-null   object\n",
      " 1   type          8807 non-null   object\n",
      " 2   title         8807 non-null   object\n",
      " 3   director      8807 non-null   object\n",
      " 4   cast          8807 non-null   object\n",
      " 5   country       8807 non-null   object\n",
      " 6   date_added    8807 non-null   object\n",
      " 7   release_year  8807 non-null   int64 \n",
      " 8   rating        8807 non-null   object\n",
      " 9   duration      8807 non-null   object\n",
      " 10  listed_in     8807 non-null   object\n",
      " 11  description   8807 non-null   object\n",
      "dtypes: int64(1), object(11)\n",
      "memory usage: 825.8+ KB\n"
     ]
    }
   ],
   "source": [
    "df.info()"
   ]
  },
  {
   "cell_type": "code",
   "execution_count": 53,
   "id": "e6a372dd-b765-4b4c-8502-68c80b055574",
   "metadata": {},
   "outputs": [
    {
     "data": {
      "text/plain": [
       "array(['PG-13', 'TV-MA', 'PG', 'TV-14', 'TV-PG', 'TV-Y', 'TV-Y7', 'R',\n",
       "       'TV-G', 'G', 'NC-17', '74 min', '84 min', '66 min', 'NR',\n",
       "       'TV-Y7-FV', 'UR'], dtype=object)"
      ]
     },
     "execution_count": 53,
     "metadata": {},
     "output_type": "execute_result"
    }
   ],
   "source": [
    "df[\"rating\"].unique()"
   ]
  },
  {
   "cell_type": "code",
   "execution_count": 55,
   "id": "f241db77-fb4b-4a21-a8ed-39b5bd74aa75",
   "metadata": {},
   "outputs": [],
   "source": [
    "df=df[~df[\"rating\"].str.contains(\"min\")]"
   ]
  },
  {
   "cell_type": "code",
   "execution_count": 57,
   "id": "a2b911bb-2328-4dbc-a7d2-25762b1ffd10",
   "metadata": {},
   "outputs": [
    {
     "data": {
      "text/plain": [
       "array(['PG-13', 'TV-MA', 'PG', 'TV-14', 'TV-PG', 'TV-Y', 'TV-Y7', 'R',\n",
       "       'TV-G', 'G', 'NC-17', 'NR', 'TV-Y7-FV', 'UR'], dtype=object)"
      ]
     },
     "execution_count": 57,
     "metadata": {},
     "output_type": "execute_result"
    }
   ],
   "source": [
    "df[\"rating\"].unique()"
   ]
  },
  {
   "cell_type": "code",
   "execution_count": 59,
   "id": "7c04e290-41b7-4c3e-8224-2a30f5b29a4e",
   "metadata": {},
   "outputs": [
    {
     "data": {
      "text/plain": [
       "array(['September 25, 2021', 'September 24, 2021', 'September 23, 2021',\n",
       "       ..., 'December 6, 2018', 'March 9, 2016', 'January 11, 2020'],\n",
       "      dtype=object)"
      ]
     },
     "execution_count": 59,
     "metadata": {},
     "output_type": "execute_result"
    }
   ],
   "source": [
    "df[\"date_added\"].unique()"
   ]
  },
  {
   "cell_type": "code",
   "execution_count": 61,
   "id": "3b9b0b25-7bfa-4ca2-9297-080763b61a84",
   "metadata": {},
   "outputs": [],
   "source": [
    "df[\"date_added\"]=df[\"date_added\"].str.replace(\",\",\"\")"
   ]
  },
  {
   "cell_type": "code",
   "execution_count": 63,
   "id": "2c922c9c-3173-4719-9307-2872f143e6c1",
   "metadata": {},
   "outputs": [
    {
     "data": {
      "text/plain": [
       "array(['September 25 2021', 'September 24 2021', 'September 23 2021', ...,\n",
       "       'December 6 2018', 'March 9 2016', 'January 11 2020'], dtype=object)"
      ]
     },
     "execution_count": 63,
     "metadata": {},
     "output_type": "execute_result"
    }
   ],
   "source": [
    "df[\"date_added\"].unique()"
   ]
  },
  {
   "cell_type": "code",
   "execution_count": 65,
   "id": "aaca874e-37b3-4d6d-ae6b-73b08478d17f",
   "metadata": {},
   "outputs": [],
   "source": [
    "df[\"date_added\"] = pd.to_datetime(df[\"date_added\"], format=\"mixed\")"
   ]
  },
  {
   "cell_type": "code",
   "execution_count": 67,
   "id": "085ca62e-cff3-4f7b-96de-f73c38f5da25",
   "metadata": {},
   "outputs": [
    {
     "data": {
      "text/plain": [
       "<DatetimeArray>\n",
       "['2021-09-25 00:00:00', '2021-09-24 00:00:00', '2021-09-23 00:00:00',\n",
       " '2021-09-22 00:00:00', '2021-09-21 00:00:00', '2021-09-20 00:00:00',\n",
       " '2021-09-19 00:00:00', '2021-09-17 00:00:00', '2021-09-16 00:00:00',\n",
       " '2021-09-15 00:00:00',\n",
       " ...\n",
       " '2018-09-27 00:00:00', '2017-03-23 00:00:00', '2016-12-25 00:00:00',\n",
       " '2016-11-30 00:00:00', '2017-10-23 00:00:00', '2017-11-04 00:00:00',\n",
       " '2015-08-05 00:00:00', '2018-12-06 00:00:00', '2016-03-09 00:00:00',\n",
       " '2020-01-11 00:00:00']\n",
       "Length: 1714, dtype: datetime64[ns]"
      ]
     },
     "execution_count": 67,
     "metadata": {},
     "output_type": "execute_result"
    }
   ],
   "source": [
    "df[\"date_added\"].unique()"
   ]
  },
  {
   "cell_type": "code",
   "execution_count": 69,
   "id": "34e39e0c-38c5-4f2a-8f12-d751afa73f4f",
   "metadata": {},
   "outputs": [],
   "source": [
    "df[\"year\"]=df[\"date_added\"].dt.year"
   ]
  },
  {
   "cell_type": "code",
   "execution_count": 71,
   "id": "7c4172f0-cd09-4788-a654-3507c345d430",
   "metadata": {},
   "outputs": [],
   "source": [
    "df[\"month\"]=df[\"date_added\"].dt.month"
   ]
  },
  {
   "cell_type": "code",
   "execution_count": 75,
   "id": "b6c81d94-4478-426d-8849-10285643583e",
   "metadata": {},
   "outputs": [],
   "source": [
    "df[\"day\"]=df[\"date_added\"].dt.day"
   ]
  },
  {
   "cell_type": "code",
   "execution_count": 77,
   "id": "63d715ac-4f2f-4293-b649-b4aa991fdc4f",
   "metadata": {},
   "outputs": [
    {
     "data": {
      "text/html": [
       "<div>\n",
       "<style scoped>\n",
       "    .dataframe tbody tr th:only-of-type {\n",
       "        vertical-align: middle;\n",
       "    }\n",
       "\n",
       "    .dataframe tbody tr th {\n",
       "        vertical-align: top;\n",
       "    }\n",
       "\n",
       "    .dataframe thead th {\n",
       "        text-align: right;\n",
       "    }\n",
       "</style>\n",
       "<table border=\"1\" class=\"dataframe\">\n",
       "  <thead>\n",
       "    <tr style=\"text-align: right;\">\n",
       "      <th></th>\n",
       "      <th>show_id</th>\n",
       "      <th>type</th>\n",
       "      <th>title</th>\n",
       "      <th>director</th>\n",
       "      <th>cast</th>\n",
       "      <th>country</th>\n",
       "      <th>date_added</th>\n",
       "      <th>release_year</th>\n",
       "      <th>rating</th>\n",
       "      <th>duration</th>\n",
       "      <th>listed_in</th>\n",
       "      <th>description</th>\n",
       "      <th>year</th>\n",
       "      <th>month</th>\n",
       "      <th>date</th>\n",
       "      <th>day</th>\n",
       "    </tr>\n",
       "  </thead>\n",
       "  <tbody>\n",
       "    <tr>\n",
       "      <th>8182</th>\n",
       "      <td>s8183</td>\n",
       "      <td>TV Show</td>\n",
       "      <td>The Adventures of Figaro Pho</td>\n",
       "      <td>Not Mentioned</td>\n",
       "      <td>Luke Jurevicius, Craig Behenna, Charlotte Haml...</td>\n",
       "      <td>Australia</td>\n",
       "      <td>2020-01-01</td>\n",
       "      <td>2015</td>\n",
       "      <td>TV-Y7</td>\n",
       "      <td>2 Seasons</td>\n",
       "      <td>Kids' TV, TV Comedies</td>\n",
       "      <td>Imagine your worst fears, then multiply them: ...</td>\n",
       "      <td>2020</td>\n",
       "      <td>1</td>\n",
       "      <td>2020-01-01</td>\n",
       "      <td>1</td>\n",
       "    </tr>\n",
       "    <tr>\n",
       "      <th>377</th>\n",
       "      <td>s378</td>\n",
       "      <td>Movie</td>\n",
       "      <td>Bartkowiak</td>\n",
       "      <td>Daniel Markowicz</td>\n",
       "      <td>Józef Pawłowski, Zofia Domalik, Szymon Bobrows...</td>\n",
       "      <td>Poland</td>\n",
       "      <td>2021-07-28</td>\n",
       "      <td>2021</td>\n",
       "      <td>TV-MA</td>\n",
       "      <td>92 min</td>\n",
       "      <td>Action &amp; Adventure, International Movies</td>\n",
       "      <td>After his brother dies in a car crash, a disgr...</td>\n",
       "      <td>2021</td>\n",
       "      <td>7</td>\n",
       "      <td>2021-07-28</td>\n",
       "      <td>28</td>\n",
       "    </tr>\n",
       "    <tr>\n",
       "      <th>3241</th>\n",
       "      <td>s3242</td>\n",
       "      <td>TV Show</td>\n",
       "      <td>Nailed It! Holiday!</td>\n",
       "      <td>Not Mentioned</td>\n",
       "      <td>Nicole Byer, Jacques Torres</td>\n",
       "      <td>United States</td>\n",
       "      <td>2019-11-22</td>\n",
       "      <td>2019</td>\n",
       "      <td>TV-PG</td>\n",
       "      <td>2 Seasons</td>\n",
       "      <td>Reality TV</td>\n",
       "      <td>It's the \"Nailed It!\" holiday special you've b...</td>\n",
       "      <td>2019</td>\n",
       "      <td>11</td>\n",
       "      <td>2019-11-22</td>\n",
       "      <td>22</td>\n",
       "    </tr>\n",
       "    <tr>\n",
       "      <th>2577</th>\n",
       "      <td>s2578</td>\n",
       "      <td>Movie</td>\n",
       "      <td>Cracked Up: The Darrell Hammond Story</td>\n",
       "      <td>Michelle Esrick</td>\n",
       "      <td>Darrell Hammond</td>\n",
       "      <td>United States</td>\n",
       "      <td>2020-05-01</td>\n",
       "      <td>2018</td>\n",
       "      <td>TV-MA</td>\n",
       "      <td>97 min</td>\n",
       "      <td>Documentaries</td>\n",
       "      <td>\"Saturday Night Live\" star Darrell Hammond rev...</td>\n",
       "      <td>2020</td>\n",
       "      <td>5</td>\n",
       "      <td>2020-05-01</td>\n",
       "      <td>1</td>\n",
       "    </tr>\n",
       "    <tr>\n",
       "      <th>1149</th>\n",
       "      <td>s1150</td>\n",
       "      <td>TV Show</td>\n",
       "      <td>Yu-Gi-Oh!</td>\n",
       "      <td>Not Mentioned</td>\n",
       "      <td>Dan Green, Eric Stuart, Amy Birnbaum, Darren D...</td>\n",
       "      <td>Japan</td>\n",
       "      <td>2021-03-31</td>\n",
       "      <td>2005</td>\n",
       "      <td>TV-Y7</td>\n",
       "      <td>1 Season</td>\n",
       "      <td>Anime Series, Kids' TV</td>\n",
       "      <td>The lives of young Yugi Moto and his friends J...</td>\n",
       "      <td>2021</td>\n",
       "      <td>3</td>\n",
       "      <td>2021-03-31</td>\n",
       "      <td>31</td>\n",
       "    </tr>\n",
       "  </tbody>\n",
       "</table>\n",
       "</div>"
      ],
      "text/plain": [
       "     show_id     type                                  title  \\\n",
       "8182   s8183  TV Show           The Adventures of Figaro Pho   \n",
       "377     s378    Movie                             Bartkowiak   \n",
       "3241   s3242  TV Show                    Nailed It! Holiday!   \n",
       "2577   s2578    Movie  Cracked Up: The Darrell Hammond Story   \n",
       "1149   s1150  TV Show                              Yu-Gi-Oh!   \n",
       "\n",
       "              director                                               cast  \\\n",
       "8182     Not Mentioned  Luke Jurevicius, Craig Behenna, Charlotte Haml...   \n",
       "377   Daniel Markowicz  Józef Pawłowski, Zofia Domalik, Szymon Bobrows...   \n",
       "3241     Not Mentioned                        Nicole Byer, Jacques Torres   \n",
       "2577   Michelle Esrick                                    Darrell Hammond   \n",
       "1149     Not Mentioned  Dan Green, Eric Stuart, Amy Birnbaum, Darren D...   \n",
       "\n",
       "            country date_added  release_year rating   duration  \\\n",
       "8182      Australia 2020-01-01          2015  TV-Y7  2 Seasons   \n",
       "377          Poland 2021-07-28          2021  TV-MA     92 min   \n",
       "3241  United States 2019-11-22          2019  TV-PG  2 Seasons   \n",
       "2577  United States 2020-05-01          2018  TV-MA     97 min   \n",
       "1149          Japan 2021-03-31          2005  TV-Y7   1 Season   \n",
       "\n",
       "                                     listed_in  \\\n",
       "8182                     Kids' TV, TV Comedies   \n",
       "377   Action & Adventure, International Movies   \n",
       "3241                                Reality TV   \n",
       "2577                             Documentaries   \n",
       "1149                    Anime Series, Kids' TV   \n",
       "\n",
       "                                            description  year  month  \\\n",
       "8182  Imagine your worst fears, then multiply them: ...  2020      1   \n",
       "377   After his brother dies in a car crash, a disgr...  2021      7   \n",
       "3241  It's the \"Nailed It!\" holiday special you've b...  2019     11   \n",
       "2577  \"Saturday Night Live\" star Darrell Hammond rev...  2020      5   \n",
       "1149  The lives of young Yugi Moto and his friends J...  2021      3   \n",
       "\n",
       "            date  day  \n",
       "8182  2020-01-01    1  \n",
       "377   2021-07-28   28  \n",
       "3241  2019-11-22   22  \n",
       "2577  2020-05-01    1  \n",
       "1149  2021-03-31   31  "
      ]
     },
     "execution_count": 77,
     "metadata": {},
     "output_type": "execute_result"
    }
   ],
   "source": [
    "df.sample(5)"
   ]
  },
  {
   "cell_type": "code",
   "execution_count": 79,
   "id": "95c00717-a2d6-4c27-a93a-424297c55d85",
   "metadata": {},
   "outputs": [],
   "source": [
    "df[\"genre\"]=df[\"listed_in\"].str.split(\",\").str[0]"
   ]
  },
  {
   "cell_type": "code",
   "execution_count": 81,
   "id": "a0433cbd-8b79-4583-971b-2e73382f9c4b",
   "metadata": {},
   "outputs": [
    {
     "data": {
      "text/plain": [
       "genre\n",
       "Dramas                    1600\n",
       "Comedies                  1210\n",
       "Action & Adventure         859\n",
       "Documentaries              829\n",
       "International TV Shows     774\n",
       "Name: count, dtype: int64"
      ]
     },
     "execution_count": 81,
     "metadata": {},
     "output_type": "execute_result"
    }
   ],
   "source": [
    "df[\"genre\"].value_counts().head(5)"
   ]
  },
  {
   "cell_type": "code",
   "execution_count": 103,
   "id": "d53d84d4-d742-4dd7-87d7-4588f0c2f23f",
   "metadata": {},
   "outputs": [],
   "source": [
    "df = df[df[\"cast\"]!=\"Not Mentioned\"]\n",
    "df[\"lead_actor\"]=df[\"cast\"].str.split(\",\").str[0]"
   ]
  },
  {
   "cell_type": "code",
   "execution_count": 115,
   "id": "79bf6190-da32-4ed0-98bc-0a94d6624a95",
   "metadata": {},
   "outputs": [
    {
     "data": {
      "text/plain": [
       "lead_actor\n",
       "Shah Rukh Khan        26\n",
       "Akshay Kumar          23\n",
       "David Attenborough    20\n",
       "Adam Sandler          20\n",
       "Amitabh Bachchan      20\n",
       "Name: count, dtype: int64"
      ]
     },
     "execution_count": 115,
     "metadata": {},
     "output_type": "execute_result"
    }
   ],
   "source": [
    "df[\"lead_actor\"].value_counts().head(5)"
   ]
  },
  {
   "cell_type": "code",
   "execution_count": null,
   "id": "031fb120-7a99-47dc-bcff-7ba288c17f60",
   "metadata": {},
   "outputs": [],
   "source": [
    "df.drop([\"date_added\",\"listed_in\",\"cast\"], axis=1, inplace=True)"
   ]
  },
  {
   "cell_type": "code",
   "execution_count": 124,
   "id": "2020a647-54f9-4843-bb71-e8c5d4297a35",
   "metadata": {},
   "outputs": [
    {
     "data": {
      "text/html": [
       "<div>\n",
       "<style scoped>\n",
       "    .dataframe tbody tr th:only-of-type {\n",
       "        vertical-align: middle;\n",
       "    }\n",
       "\n",
       "    .dataframe tbody tr th {\n",
       "        vertical-align: top;\n",
       "    }\n",
       "\n",
       "    .dataframe thead th {\n",
       "        text-align: right;\n",
       "    }\n",
       "</style>\n",
       "<table border=\"1\" class=\"dataframe\">\n",
       "  <thead>\n",
       "    <tr style=\"text-align: right;\">\n",
       "      <th></th>\n",
       "      <th>show_id</th>\n",
       "      <th>type</th>\n",
       "      <th>title</th>\n",
       "      <th>director</th>\n",
       "      <th>country</th>\n",
       "      <th>release_year</th>\n",
       "      <th>rating</th>\n",
       "      <th>duration</th>\n",
       "      <th>description</th>\n",
       "      <th>year</th>\n",
       "      <th>month</th>\n",
       "      <th>date</th>\n",
       "      <th>day</th>\n",
       "      <th>genre</th>\n",
       "      <th>lead_actor</th>\n",
       "    </tr>\n",
       "  </thead>\n",
       "  <tbody>\n",
       "    <tr>\n",
       "      <th>56</th>\n",
       "      <td>s57</td>\n",
       "      <td>Movie</td>\n",
       "      <td>Naruto Shippuden the Movie: Blood Prison</td>\n",
       "      <td>Masahiko Murata</td>\n",
       "      <td>Japan</td>\n",
       "      <td>2011</td>\n",
       "      <td>TV-14</td>\n",
       "      <td>102 min</td>\n",
       "      <td>Mistakenly accused of an attack on the Fourth ...</td>\n",
       "      <td>2021</td>\n",
       "      <td>9</td>\n",
       "      <td>2021-09-15</td>\n",
       "      <td>15</td>\n",
       "      <td>Action &amp; Adventure</td>\n",
       "      <td>Junko Takeuchi</td>\n",
       "    </tr>\n",
       "    <tr>\n",
       "      <th>4973</th>\n",
       "      <td>s4974</td>\n",
       "      <td>TV Show</td>\n",
       "      <td>Requiem</td>\n",
       "      <td>Not Mentioned</td>\n",
       "      <td>United Kingdom</td>\n",
       "      <td>2018</td>\n",
       "      <td>TV-MA</td>\n",
       "      <td>1 Season</td>\n",
       "      <td>In the wake of a sudden tragedy, a London cell...</td>\n",
       "      <td>2018</td>\n",
       "      <td>3</td>\n",
       "      <td>2018-03-23</td>\n",
       "      <td>23</td>\n",
       "      <td>British TV Shows</td>\n",
       "      <td>Lydia Wilson</td>\n",
       "    </tr>\n",
       "    <tr>\n",
       "      <th>5087</th>\n",
       "      <td>s5088</td>\n",
       "      <td>Movie</td>\n",
       "      <td>Alejandro Riaño: Especial de stand up</td>\n",
       "      <td>Not Mentioned</td>\n",
       "      <td>Colombia</td>\n",
       "      <td>2018</td>\n",
       "      <td>TV-MA</td>\n",
       "      <td>60 min</td>\n",
       "      <td>Colombian comedian Alejandro Riaño discusses t...</td>\n",
       "      <td>2018</td>\n",
       "      <td>1</td>\n",
       "      <td>2018-01-10</td>\n",
       "      <td>10</td>\n",
       "      <td>Stand-Up Comedy</td>\n",
       "      <td>Alejandro Riaño</td>\n",
       "    </tr>\n",
       "    <tr>\n",
       "      <th>7687</th>\n",
       "      <td>s7688</td>\n",
       "      <td>Movie</td>\n",
       "      <td>P</td>\n",
       "      <td>Paul Spurrier</td>\n",
       "      <td>United Kingdom, Thailand</td>\n",
       "      <td>2006</td>\n",
       "      <td>TV-MA</td>\n",
       "      <td>105 min</td>\n",
       "      <td>An orphan girl taught magic by her sick grandm...</td>\n",
       "      <td>2019</td>\n",
       "      <td>5</td>\n",
       "      <td>2019-05-31</td>\n",
       "      <td>31</td>\n",
       "      <td>Horror Movies</td>\n",
       "      <td>Suangporn Jaturaphut</td>\n",
       "    </tr>\n",
       "    <tr>\n",
       "      <th>1944</th>\n",
       "      <td>s1945</td>\n",
       "      <td>Movie</td>\n",
       "      <td>Mann</td>\n",
       "      <td>Indra Kumar</td>\n",
       "      <td>India</td>\n",
       "      <td>1999</td>\n",
       "      <td>TV-14</td>\n",
       "      <td>173 min</td>\n",
       "      <td>A smooth talker falls for a music teacher aboa...</td>\n",
       "      <td>2020</td>\n",
       "      <td>9</td>\n",
       "      <td>2020-09-28</td>\n",
       "      <td>28</td>\n",
       "      <td>Dramas</td>\n",
       "      <td>Aamir Khan</td>\n",
       "    </tr>\n",
       "  </tbody>\n",
       "</table>\n",
       "</div>"
      ],
      "text/plain": [
       "     show_id     type                                     title  \\\n",
       "56       s57    Movie  Naruto Shippuden the Movie: Blood Prison   \n",
       "4973   s4974  TV Show                                   Requiem   \n",
       "5087   s5088    Movie     Alejandro Riaño: Especial de stand up   \n",
       "7687   s7688    Movie                                         P   \n",
       "1944   s1945    Movie                                      Mann   \n",
       "\n",
       "             director                   country  release_year rating  \\\n",
       "56    Masahiko Murata                     Japan          2011  TV-14   \n",
       "4973    Not Mentioned            United Kingdom          2018  TV-MA   \n",
       "5087    Not Mentioned                  Colombia          2018  TV-MA   \n",
       "7687    Paul Spurrier  United Kingdom, Thailand          2006  TV-MA   \n",
       "1944      Indra Kumar                     India          1999  TV-14   \n",
       "\n",
       "      duration                                        description  year  \\\n",
       "56     102 min  Mistakenly accused of an attack on the Fourth ...  2021   \n",
       "4973  1 Season  In the wake of a sudden tragedy, a London cell...  2018   \n",
       "5087    60 min  Colombian comedian Alejandro Riaño discusses t...  2018   \n",
       "7687   105 min  An orphan girl taught magic by her sick grandm...  2019   \n",
       "1944   173 min  A smooth talker falls for a music teacher aboa...  2020   \n",
       "\n",
       "      month        date  day               genre            lead_actor  \n",
       "56        9  2021-09-15   15  Action & Adventure        Junko Takeuchi  \n",
       "4973      3  2018-03-23   23    British TV Shows          Lydia Wilson  \n",
       "5087      1  2018-01-10   10     Stand-Up Comedy       Alejandro Riaño  \n",
       "7687      5  2019-05-31   31       Horror Movies  Suangporn Jaturaphut  \n",
       "1944      9  2020-09-28   28              Dramas            Aamir Khan  "
      ]
     },
     "execution_count": 124,
     "metadata": {},
     "output_type": "execute_result"
    }
   ],
   "source": [
    "df.sample(5)"
   ]
  },
  {
   "cell_type": "code",
   "execution_count": null,
   "id": "455fbea2-7322-465a-bb0d-5439bc30a912",
   "metadata": {},
   "outputs": [],
   "source": [
    "df.drop([\"show_id\",\"description\"], axis=1, inplace=True)"
   ]
  },
  {
   "cell_type": "code",
   "execution_count": 138,
   "id": "0a7fe8ec-3375-4b98-84ef-a7ce8ed2726f",
   "metadata": {},
   "outputs": [],
   "source": [
    "df.drop([\"date\"],axis=1,inplace=True)"
   ]
  },
  {
   "cell_type": "code",
   "execution_count": 140,
   "id": "e5db7714-89c9-44c9-82d3-7ba2017cdd66",
   "metadata": {},
   "outputs": [
    {
     "data": {
      "text/html": [
       "<div>\n",
       "<style scoped>\n",
       "    .dataframe tbody tr th:only-of-type {\n",
       "        vertical-align: middle;\n",
       "    }\n",
       "\n",
       "    .dataframe tbody tr th {\n",
       "        vertical-align: top;\n",
       "    }\n",
       "\n",
       "    .dataframe thead th {\n",
       "        text-align: right;\n",
       "    }\n",
       "</style>\n",
       "<table border=\"1\" class=\"dataframe\">\n",
       "  <thead>\n",
       "    <tr style=\"text-align: right;\">\n",
       "      <th></th>\n",
       "      <th>type</th>\n",
       "      <th>title</th>\n",
       "      <th>director</th>\n",
       "      <th>country</th>\n",
       "      <th>release_year</th>\n",
       "      <th>rating</th>\n",
       "      <th>duration</th>\n",
       "      <th>year</th>\n",
       "      <th>month</th>\n",
       "      <th>day</th>\n",
       "      <th>genre</th>\n",
       "      <th>lead_actor</th>\n",
       "    </tr>\n",
       "  </thead>\n",
       "  <tbody>\n",
       "    <tr>\n",
       "      <th>5189</th>\n",
       "      <td>Movie</td>\n",
       "      <td>Pettersson and Findus 2</td>\n",
       "      <td>Ali Samadi Ahadi</td>\n",
       "      <td>Germany</td>\n",
       "      <td>2016</td>\n",
       "      <td>TV-G</td>\n",
       "      <td>82 min</td>\n",
       "      <td>2017</td>\n",
       "      <td>11</td>\n",
       "      <td>1</td>\n",
       "      <td>Children &amp; Family Movies</td>\n",
       "      <td>Stefan Kurt</td>\n",
       "    </tr>\n",
       "    <tr>\n",
       "      <th>7096</th>\n",
       "      <td>Movie</td>\n",
       "      <td>Iron Cowboy: The Story of the 50.50.50</td>\n",
       "      <td>Jacob Schwab</td>\n",
       "      <td>United States</td>\n",
       "      <td>2018</td>\n",
       "      <td>TV-14</td>\n",
       "      <td>77 min</td>\n",
       "      <td>2019</td>\n",
       "      <td>7</td>\n",
       "      <td>19</td>\n",
       "      <td>Documentaries</td>\n",
       "      <td>James Lawrence</td>\n",
       "    </tr>\n",
       "    <tr>\n",
       "      <th>274</th>\n",
       "      <td>TV Show</td>\n",
       "      <td>Grace and Frankie</td>\n",
       "      <td>Not Mentioned</td>\n",
       "      <td>United States</td>\n",
       "      <td>2021</td>\n",
       "      <td>TV-MA</td>\n",
       "      <td>7 Seasons</td>\n",
       "      <td>2021</td>\n",
       "      <td>8</td>\n",
       "      <td>13</td>\n",
       "      <td>TV Comedies</td>\n",
       "      <td>Jane Fonda</td>\n",
       "    </tr>\n",
       "    <tr>\n",
       "      <th>4784</th>\n",
       "      <td>Movie</td>\n",
       "      <td>White Fang</td>\n",
       "      <td>Alexandre Espigares</td>\n",
       "      <td>France, Luxembourg, United States</td>\n",
       "      <td>2018</td>\n",
       "      <td>TV-PG</td>\n",
       "      <td>88 min</td>\n",
       "      <td>2018</td>\n",
       "      <td>7</td>\n",
       "      <td>6</td>\n",
       "      <td>Children &amp; Family Movies</td>\n",
       "      <td>Nick Offerman</td>\n",
       "    </tr>\n",
       "    <tr>\n",
       "      <th>2172</th>\n",
       "      <td>Movie</td>\n",
       "      <td>Killing Hasselhoff</td>\n",
       "      <td>Darren Grant</td>\n",
       "      <td>United States</td>\n",
       "      <td>2017</td>\n",
       "      <td>R</td>\n",
       "      <td>80 min</td>\n",
       "      <td>2020</td>\n",
       "      <td>8</td>\n",
       "      <td>1</td>\n",
       "      <td>Comedies</td>\n",
       "      <td>Ken Jeong</td>\n",
       "    </tr>\n",
       "  </tbody>\n",
       "</table>\n",
       "</div>"
      ],
      "text/plain": [
       "         type                                   title             director  \\\n",
       "5189    Movie                 Pettersson and Findus 2     Ali Samadi Ahadi   \n",
       "7096    Movie  Iron Cowboy: The Story of the 50.50.50         Jacob Schwab   \n",
       "274   TV Show                       Grace and Frankie        Not Mentioned   \n",
       "4784    Movie                              White Fang  Alexandre Espigares   \n",
       "2172    Movie                      Killing Hasselhoff         Darren Grant   \n",
       "\n",
       "                                country  release_year rating   duration  year  \\\n",
       "5189                            Germany          2016   TV-G     82 min  2017   \n",
       "7096                      United States          2018  TV-14     77 min  2019   \n",
       "274                       United States          2021  TV-MA  7 Seasons  2021   \n",
       "4784  France, Luxembourg, United States          2018  TV-PG     88 min  2018   \n",
       "2172                      United States          2017      R     80 min  2020   \n",
       "\n",
       "      month  day                     genre      lead_actor  \n",
       "5189     11    1  Children & Family Movies     Stefan Kurt  \n",
       "7096      7   19             Documentaries  James Lawrence  \n",
       "274       8   13               TV Comedies      Jane Fonda  \n",
       "4784      7    6  Children & Family Movies   Nick Offerman  \n",
       "2172      8    1                  Comedies       Ken Jeong  "
      ]
     },
     "execution_count": 140,
     "metadata": {},
     "output_type": "execute_result"
    }
   ],
   "source": [
    "df.sample(5)"
   ]
  },
  {
   "cell_type": "code",
   "execution_count": 144,
   "id": "466fde3a-5610-42af-8f43-5429bc1a8bef",
   "metadata": {},
   "outputs": [],
   "source": [
    "df.to_csv(\"cleaned_netflix_data.csv\")"
   ]
  },
  {
   "cell_type": "code",
   "execution_count": null,
   "id": "9cc808eb-724a-4bf1-acc2-e747b5d9ae6e",
   "metadata": {},
   "outputs": [],
   "source": []
  }
 ],
 "metadata": {
  "kernelspec": {
   "display_name": "Python [conda env:base] *",
   "language": "python",
   "name": "conda-base-py"
  },
  "language_info": {
   "codemirror_mode": {
    "name": "ipython",
    "version": 3
   },
   "file_extension": ".py",
   "mimetype": "text/x-python",
   "name": "python",
   "nbconvert_exporter": "python",
   "pygments_lexer": "ipython3",
   "version": "3.12.7"
  }
 },
 "nbformat": 4,
 "nbformat_minor": 5
}
